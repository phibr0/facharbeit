{
  "nbformat": 4,
  "nbformat_minor": 0,
  "metadata": {
    "colab": {
      "name": "Facharbeit.ipynb",
      "provenance": [],
      "collapsed_sections": [],
      "toc_visible": true,
      "authorship_tag": "ABX9TyOopeM99pcXq489SJix5wIt",
      "include_colab_link": true
    },
    "kernelspec": {
      "name": "python3",
      "display_name": "Python 3"
    },
    "accelerator": "GPU"
  },
  "cells": [
    {
      "cell_type": "markdown",
      "metadata": {
        "id": "view-in-github",
        "colab_type": "text"
      },
      "source": [
        "<a href=\"https://colab.research.google.com/github/phibr0/facharbeit/blob/main/code/Facharbeit.ipynb\" target=\"_parent\"><img src=\"https://colab.research.google.com/assets/colab-badge.svg\" alt=\"Open In Colab\"/></a>"
      ]
    },
    {
      "cell_type": "markdown",
      "metadata": {
        "id": "rlH_pXGMKcrI"
      },
      "source": [
        "# Trainieren des Beispiel NN's aus Kapitel 2\r\n",
        "\r\n",
        "In diesem Teil wird das Beispiel NN aus Kapitel 2 meiner Facharbeit trainiert.\r\n",
        "Das MNIST Dataset enthält Bilder von Handgeschriebenen Ziffern mit einer Größe von 28x28 Pixeln.\r\n",
        "\r\n",
        "**Der Code kann direkt hier im Browser ausgeführt und auch verändert werden.**\r\n",
        "\r\n",
        "Das trainierte Modell wird anschließend als 'beispielModel_MNIST' gespeichert."
      ]
    },
    {
      "cell_type": "code",
      "metadata": {
        "id": "vYnJkaRag0Rd",
        "colab": {
          "base_uri": "https://localhost:8080/"
        },
        "outputId": "37e2d69f-5db0-49a5-9cef-340a98e42496"
      },
      "source": [
        "#@title Variablen { form-width: \"30%\", display-mode: \"both\" }\n",
        "import tensorflow as tf\n",
        "import tensorflow.keras.layers as layers\n",
        "import numpy as np\n",
        "\n",
        "numOfNeuronsIn1 = 16 #@param {type:\"slider\", min:1, max:256, step:1}\n",
        "numOfNeuronsIn2 = 16 #@param {type:\"slider\", min:1, max:256, step:1}\n",
        "numOfEpochs = 5 #@param {type:\"slider\", min:1, max:256, step:1}\n",
        "\n",
        "mnist = tf.keras.datasets.mnist\n",
        "\n",
        "(x_train, y_train), (x_test, y_test) = mnist.load_data() # Laden des MNIST Datasets\n",
        "# Und aufteilen in Trainigsdaten und Testdaten\n",
        "\n",
        "x_train = tf.keras.utils.normalize(x_train, axis=1) # Normalisieren des Datasets\n",
        "x_test = tf.keras.utils.normalize(x_test, axis=1)\n",
        "\n",
        "model = tf.keras.models.Sequential() ## Erstellen des Neuronalen Netzwerks\n",
        "model.add(layers.Flatten())\n",
        "model.add(layers.Dense(numOfNeuronsIn1, activation=tf.nn.sigmoid)) # Hinzufügen der Layer\n",
        "model.add(layers.Dense(numOfNeuronsIn2, activation=tf.nn.sigmoid))\n",
        "model.add(layers.Dense(10, activation=tf.nn.softmax))\n",
        "\n",
        "model.compile(optimizer='adam',\n",
        "              loss='sparse_categorical_crossentropy',\n",
        "              metrics=['accuracy']) # Kompilieren der Layer zu einem trainierfähigen Modell\n",
        "\n",
        "model.fit(x_train, y_train, epochs=numOfEpochs) # Trainieren des Modells mit den Trainingsdaten und x Epochen\n",
        "\n",
        "model.save('beispielModel_MNIST') # Speichern des Modells"
      ],
      "execution_count": null,
      "outputs": [
        {
          "output_type": "stream",
          "text": [
            "Downloading data from https://storage.googleapis.com/tensorflow/tf-keras-datasets/mnist.npz\n",
            "11493376/11490434 [==============================] - 0s 0us/step\n",
            "Epoch 1/5\n",
            "1875/1875 [==============================] - 5s 2ms/step - loss: 1.6964 - accuracy: 0.5251\n",
            "Epoch 2/5\n",
            "1875/1875 [==============================] - 3s 2ms/step - loss: 0.5897 - accuracy: 0.8444\n",
            "Epoch 3/5\n",
            "1875/1875 [==============================] - 3s 2ms/step - loss: 0.3665 - accuracy: 0.9057\n",
            "Epoch 4/5\n",
            "1875/1875 [==============================] - 3s 2ms/step - loss: 0.2836 - accuracy: 0.9233\n",
            "Epoch 5/5\n",
            "1875/1875 [==============================] - 3s 2ms/step - loss: 0.2495 - accuracy: 0.9290\n",
            "INFO:tensorflow:Assets written to: beispielModel_MNIST/assets\n"
          ],
          "name": "stdout"
        }
      ]
    }
  ]
}